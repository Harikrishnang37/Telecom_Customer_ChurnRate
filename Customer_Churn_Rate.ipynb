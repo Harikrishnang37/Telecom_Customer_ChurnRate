{
  "nbformat": 4,
  "nbformat_minor": 0,
  "metadata": {
    "colab": {
      "name": "Customer_Churn_Rate.ipynb",
      "provenance": [],
      "authorship_tag": "ABX9TyN2/ntlyI8fmnKwsBj0Cn5K",
      "include_colab_link": true
    },
    "kernelspec": {
      "name": "python3",
      "display_name": "Python 3"
    },
    "language_info": {
      "name": "python"
    }
  },
  "cells": [
    {
      "cell_type": "markdown",
      "metadata": {
        "id": "view-in-github",
        "colab_type": "text"
      },
      "source": [
        "<a href=\"https://colab.research.google.com/github/Harikrishnang37/Telecom_Customer_ChurnRate/blob/main/Customer_Churn_Rate.ipynb\" target=\"_parent\"><img src=\"https://colab.research.google.com/assets/colab-badge.svg\" alt=\"Open In Colab\"/></a>"
      ]
    },
    {
      "cell_type": "markdown",
      "source": [
        "In this project, we are going to use the legacy data from a telecommunications dataset to predict the customer churn rate and then find out the accuracy of our model."
      ],
      "metadata": {
        "id": "L9XncfuLY1Af"
      }
    },
    {
      "cell_type": "code",
      "source": [
        "import pandas as pd\n",
        "import pylab as pl\n",
        "import numpy as np\n",
        "import scipy.optimize as opt\n",
        "from sklearn import preprocessing\n",
        "%matplotlib inline \n",
        "import matplotlib.pyplot as plt"
      ],
      "metadata": {
        "id": "YnSPHuc2fzLs"
      },
      "execution_count": null,
      "outputs": []
    },
    {
      "cell_type": "code",
      "source": [
        "#Acquiring the data:\n",
        "\n",
        "df=pd.read_csv(\"https://cf-courses-data.s3.us.cloud-object-storage.appdomain.cloud/IBMDeveloperSkillsNetwork-ML0101EN-SkillsNetwork/labs/Module%203/data/ChurnData.csv\")\n",
        "#display(df)\n",
        "\n",
        "churn_df = df[[\"age\",\"equip\",\"callcard\",\"longmon\",\"income\",\"tenure\",\"tollmon\",\"cardten\"]]\n",
        "churn_df['income'] = churn_df['income'].astype('int')\n",
        "#churn_df.head()\n",
        "\n",
        "X = np.asanyarray(churn_df[[\"age\",\"equip\",\"callcard\",\"longmon\",\"income\",\"tenure\",\"tollmon\",\"cardten\"]])\n",
        "#X[0:5]\n",
        "y = np.asanyarray(df['churn'])\n",
        "#y [0:5]\n",
        "\n",
        "#Normalizing the dataset.\n",
        "from sklearn import preprocessing\n",
        "X = preprocessing.StandardScaler().fit(X).transform(X)\n",
        "#X[0:5]\n"
      ],
      "metadata": {
        "colab": {
          "base_uri": "https://localhost:8080/"
        },
        "id": "ESbMC0lyaxr0",
        "outputId": "8bd2fa85-6763-4374-a353-e06686e62aa0"
      },
      "execution_count": null,
      "outputs": [
        {
          "output_type": "stream",
          "name": "stderr",
          "text": [
            "/usr/local/lib/python3.7/dist-packages/ipykernel_launcher.py:7: SettingWithCopyWarning: \n",
            "A value is trying to be set on a copy of a slice from a DataFrame.\n",
            "Try using .loc[row_indexer,col_indexer] = value instead\n",
            "\n",
            "See the caveats in the documentation: https://pandas.pydata.org/pandas-docs/stable/user_guide/indexing.html#returning-a-view-versus-a-copy\n",
            "  import sys\n"
          ]
        }
      ]
    },
    {
      "cell_type": "code",
      "source": [
        "#Splitting the data into train and test set\n",
        "\n",
        "from sklearn.model_selection import train_test_split\n",
        "X_train, X_test, y_train, y_test = train_test_split( X, y, test_size=0.2, random_state=4)\n",
        "#print ('Train set:', X_train.shape,  y_train.shape)\n",
        "#print ('Test set:', X_test.shape,  y_test.shape)\n"
      ],
      "metadata": {
        "id": "-YNUAg9Lbh4V"
      },
      "execution_count": null,
      "outputs": []
    },
    {
      "cell_type": "code",
      "source": [
        "#Performing logistic Regression\n",
        "\n",
        "from sklearn.linear_model import LogisticRegression\n",
        "from sklearn.metrics import confusion_matrix\n",
        "LR = LogisticRegression(C=0.01, solver='liblinear').fit(X_train,y_train)\n",
        "yhat = LR.predict(X_test)\n",
        "\n",
        "yhat_prob = LR.predict_proba(X_test)\n"
      ],
      "metadata": {
        "id": "OsVWdZ0tdNFh"
      },
      "execution_count": null,
      "outputs": []
    },
    {
      "cell_type": "code",
      "source": [
        "#Now, to determine the accuracy of our prediction:\n",
        "\n",
        "#Creating confusion matrix:\n",
        "confusion_matrix(y_test, yhat)\n",
        "\n",
        "cm = confusion_matrix(y_test, yhat)\n",
        "accuracy = (cm[0][0]+ cm[len(cm)-1][len(cm)-1])/(sum(cm[0])+sum(cm[1]))\n",
        "print(\"Accuracy:\" ,accuracy)\n"
      ],
      "metadata": {
        "colab": {
          "base_uri": "https://localhost:8080/"
        },
        "id": "5SWkvTQTdss0",
        "outputId": "8bd0cb61-5923-4d14-ce7f-b699b3a8807f"
      },
      "execution_count": null,
      "outputs": [
        {
          "output_type": "stream",
          "name": "stdout",
          "text": [
            "Accuracy: 0.75\n"
          ]
        }
      ]
    }
  ]
}